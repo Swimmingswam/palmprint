{
 "cells": [
  {
   "cell_type": "markdown",
   "metadata": {},
   "source": [
    "# 定义网络"
   ]
  },
  {
   "cell_type": "code",
   "execution_count": null,
   "metadata": {},
   "outputs": [],
   "source": [
    "#权重初始化\n",
    "def weights_init(m):\n",
    "    classname=m.__class__.__name__\n",
    "    if classname.find('Conv') != -1:\n",
    "        m.weight.data.normal_(0.0,0.02)\n",
    "    elif classname.find('BatchNorm') != -1:\n",
    "        m.weight.data.normal_(1.0,0.02)\n",
    "        m.bias.data.fill_(0)\n"
   ]
  },
  {
   "cell_type": "code",
   "execution_count": null,
   "metadata": {},
   "outputs": [],
   "source": [
    "#生成网络\n",
    "class Gen(nn.Module):\n",
    "    def __init__(self):\n",
    "        super(Gen,self).__init__()\n",
    "        self.main=nN.Squential(\n",
    "            nn.ConvTranspose2d(nz,ngf*8,4,1,0,bias=False),\n",
    "            nn.BatchNorm2d(ngf*8),\n",
    "            nn.ReLU(True),\n",
    "            #输出ngf*8x4x4\n",
    "            nn.ConvTranspose2d(ngf*8,ngf*4,4,2,1,bias=False),\n",
    "            nn.BatchNorm2d(ngf*4),\n",
    "            nn.ReLU(True),\n",
    "            #输出ngf*4x8x8\n",
    "            nn.ConvTranspose2d(ngf*4,ngf*2,4,2,1,bias=False),\n",
    "            nn.BatchNorm2d(ngf*2),\n",
    "            nn.ReLU(True),\n",
    "            #输出ngf*2x16x16\n",
    "            nn.ConvTranspose2d(ngf*2,ngf,4,2,1,bias=False),\n",
    "            nn.BatchNorm2d(ngf),\n",
    "            nn.ReLU(True),\n",
    "            #输出ngfx32x32\n",
    "            nn.ConvTranspose2d(ngf,nc,4,2,1,bias=False),\n",
    "            nn.Tanh()\n",
    "            #输出ncx64x64\n",
    "        )\n",
    "        \n",
    "    def forward(self,input):\n",
    "            output=self.main(input)\n",
    "            return output\n",
    "            \n",
    "netG=Gen()\n",
    "netG.apply(weights_init)\n",
    "print(netG)"
   ]
  },
  {
   "cell_type": "code",
   "execution_count": null,
   "metadata": {},
   "outputs": [],
   "source": [
    "#判别网络\n",
    "class Dis(nn.Module):\n",
    "    def __init__(self):\n",
    "        super(Dis,self).__init__()\n",
    "        self.main=nn.Sequential(\n",
    "            #输入ncx64x64\n",
    "            nn.Conv2d(nc,ndf,4,2,1,bias=False),\n",
    "            nn.LeakyReLU(0.2,inplace=True),\n",
    "            #输出ndfx32x32\n",
    "            nn.Conv2d(ndf,ndf*2,4,2,1,bias=False),\n",
    "            nn.BatchNorm2d(ngf*2),\n",
    "            nn.LeakyReLU(0.2,inplace=True),\n",
    "            #输出ndf*2x16x16\n",
    "            nn.Conv2d(ndf*2,ndf*4,4,2,1,bias=False),\n",
    "            nn.BatchNorm2d(ngf*4),\n",
    "            nn.LeakyReLU(0.2,inplace=True),\n",
    "            #输出ndf*4x8x8\n",
    "            nn.Conv2d(ndf*4,ndf*8,4,2,1,bias=False),\n",
    "            nn.BatchNorm2d(ngf*8),\n",
    "            nn.LeakyReLU(0.2,inplace=True),\n",
    "            #输出ndf*8x4x4\n",
    "            nn.Conv2d(ndf*8,1,4,1,0,bias=False),\n",
    "            nn.Sigmoid()\n",
    "        )\n",
    "    def forward(self,input):\n",
    "        output=self.main(input)\n",
    "        return output.view(-1,1).squeeze(1)\n",
    "    \n",
    "netD=Dis()\n",
    "netD.apply(weights_init)\n",
    "print(netD)"
   ]
  },
  {
   "cell_type": "markdown",
   "metadata": {},
   "source": [
    "# 定义损失和优化"
   ]
  },
  {
   "cell_type": "code",
   "execution_count": null,
   "metadata": {},
   "outputs": [],
   "source": [
    "criterion=nn.BCELoss()\n",
    "optimizerD=optim.Adam(netD.parameters(),lr,betas=(betal,0.999))\n",
    "optimizerG=optim.Adam(netG.parameters(),lr,betas=(betal,0.999))"
   ]
  },
  {
   "cell_type": "markdown",
   "metadata": {},
   "source": [
    "# 训练网络"
   ]
  },
  {
   "cell_type": "code",
   "execution_count": null,
   "metadata": {},
   "outputs": [],
   "source": [
    "for epoch in range(niter):\n",
    "    #更新D\n",
    "    #使用真数据训练\n",
    "    netD.zero_grad()\n",
    "    real,_=data  #获取一批真实数据\n",
    "    batch_size=real.size(0)\n",
    "    if torch.cuda.is_available():\n",
    "        real=real.cuda()\n",
    "        \n",
    "    input.resize_as_(real).copy_(real)\n",
    "    label.resize_(batch_size).fill_(real_label)\n",
    "    inputv=Variable(input)\n",
    "    labelv=Variable(label)\n",
    "    \n",
    "    output=netD(inputv)  \n",
    "    errD_real=criterion(output,labelv)\n",
    "    errD_real.backward()\n",
    "    D_x=output.data.mean()\n",
    "    \n",
    "    #使用假数据训练\n",
    "    noise.resize_(batch_size,nz,1,1).normal_(0,1) #随机生成一批维度为nz的1x1噪声向量\n",
    "    noisev=Variable(noise)\n",
    "    \n",
    "    fake=netG(noisev)\n",
    "    labelv=Variable(label.fill_(fake_label))\n",
    "    \n",
    "    output=netD(fake.detach())\n",
    "    errD_fake=criterion(output,labelv)\n",
    "    errD_fake.backward()\n",
    "    D_G_z1=output.data.mean()\n",
    "    \n",
    "    errD=errD_real+errD_fake\n",
    "    optimizerD.step()\n",
    "    \n",
    "    #更新G\n",
    "    netG.zero_grad()\n",
    "    labelv=Variable(label.fill_(real_label))\n",
    "    \n",
    "    output=netD(fake)\n",
    "    errG=criterion(output,labelv)\n",
    "    errG.backward()\n",
    "    D_G_z2=output.data.mean()\n",
    "    \n",
    "    optimizerG.step()\n",
    "    \n",
    "    print('[%d/%d][%d/%d] LOSS_D: %.4f LOSS_G: %.4f D(x): %.4f D(G(z)): %.4f/%.4f' % (epoch,niter,i,len(dataloader),\n",
    "                                                                                      errD.data[0],errG.data[0],D_x,D_G_z1,D_G_z2))\n",
    "    if i % 100 ==0:\n",
    "        vutils.save_image(real_cpu,'%s/real_samples.png' % outf,normalize=True)\n",
    "        fake=netG(fixed_noise)\n",
    "        vutils.save_image(fake.data,'%s/fake_samples_epoch_%03d.png' % (outf,epoch),normalize=True)\n",
    "        \n",
    "    "
   ]
  }
 ],
 "metadata": {
  "kernelspec": {
   "display_name": "Python [conda env:pyenv] *",
   "language": "python",
   "name": "conda-env-pyenv-py"
  },
  "language_info": {
   "codemirror_mode": {
    "name": "ipython",
    "version": 3
   },
   "file_extension": ".py",
   "mimetype": "text/x-python",
   "name": "python",
   "nbconvert_exporter": "python",
   "pygments_lexer": "ipython3",
   "version": "3.6.9"
  }
 },
 "nbformat": 4,
 "nbformat_minor": 2
}
