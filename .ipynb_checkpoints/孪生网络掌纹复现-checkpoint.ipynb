{
 "cells": [
  {
   "cell_type": "code",
   "execution_count": 1,
   "metadata": {},
   "outputs": [],
   "source": [
    "import torch\n",
    "import torch.nn as nn\n",
    "import torch.optim as optim\n",
    "import torchvision\n",
    "import torchvision.transforms as transforms\n",
    "import numpy as np\n",
    "from torchvision import datasets, models, transforms\n",
    "import os\n",
    "import matplotlib.pyplot as plt\n",
    "import pandas as pd\n",
    "from PIL import Image\n",
    "from torch.utils.data import Dataset,DataLoader\n",
    "import random"
   ]
  },
  {
   "cell_type": "code",
   "execution_count": 2,
   "metadata": {},
   "outputs": [],
   "source": [
    "os.environ[\"CUDA_VISIBLE_DEVICES\"] = \"0\"\n",
    "# 定义是否使用GPU\n",
    "device = torch.device(\"cuda\" if torch.cuda.is_available() else \"cpu\")\n",
    "EPOCH = 30   #遍历数据集次数\n",
    "pre_epoch = 0  # 定义已经遍历数据集的次数\n",
    "BATCH_SIZE = 10   #批处理尺寸(batch_size)\n",
    "LR = 0.0001        #学习率"
   ]
  },
  {
   "cell_type": "code",
   "execution_count": 3,
   "metadata": {},
   "outputs": [],
   "source": [
    "class SiameseNetworkDataset(Dataset):\n",
    "    def __init__(self,imageFolderDataset,transform=None,should_invert=True):\n",
    "        self.imageFolderDataset=imageFolderDataset\n",
    "        self.transform=transform\n",
    "        self.should_invert=should_invert\n",
    "        \n",
    "    def __getitem__(self,index):  #获取图片1、图片2、标签\n",
    "        img1_folder=random.choice(self.imageFolderDataset.imgs)\n",
    "        genuine_imposter_ratio=random.randint(0,1)  #随机0或1，真匹配和假匹配概率一样\n",
    "        if genuine_imposter_ratio:\n",
    "            while True:\n",
    "                img2_folder=random.choice(self.imageFolderDataset.imgs)\n",
    "                if img1_folder[1]==img2_folder[1]:\n",
    "                    break\n",
    "        else:\n",
    "            while True:\n",
    "                img2_folder=random.choice(self.imageFolderDataset.imgs)\n",
    "                if img1_folder[1]!=img2_folder[1]:\n",
    "                    break\n",
    "                    \n",
    "        #装换成灰度图            \n",
    "        img1=Image.open(img1_folder[0])\n",
    "        img2=Image.open(img2_folder[0])\n",
    "        img1=img1.convert('RGB')\n",
    "        img2=img2.convert('RGB')\n",
    "        \n",
    "        if self.should_invert:\n",
    "            img1=Image.ImageOps.invert(img1)\n",
    "            img2=Image.ImageOps.invert(img2) \n",
    "            \n",
    "        if self.transform is not None:\n",
    "            img1=self.transform(img1)\n",
    "            img2=self.transform(img2)  \n",
    "        #                                    同类为0，不同类为1\n",
    "        return img1,img2,torch.from_numpy(np.array([int(img1_folder[1]==img2_folder[1])],dtype=np.float32))\n",
    "    \n",
    "    def __len__(self):\n",
    "        return len(self.imageFolderDataset.imgs)\n",
    "    \n",
    "#定义训练集地址\n",
    "train_dir='D:/数据库/palmdata/iitd'\n",
    "batch_size=64\n",
    "\n",
    "folder_dataset = torchvision.datasets.ImageFolder(root=train_dir)\n",
    "\n",
    "transform=transforms.Compose([transforms.Resize((128,128)),transforms.ToTensor()])\n",
    "\n",
    "siamese_dataset=SiameseNetworkDataset(imageFolderDataset=folder_dataset,transform=transform,should_invert=False)\n",
    "\n",
    "train_dataloader=DataLoader(siamese_dataset,shuffle=True,batch_size=batch_size)"
   ]
  },
  {
   "cell_type": "code",
   "execution_count": 4,
   "metadata": {},
   "outputs": [
    {
     "name": "stdout",
     "output_type": "stream",
     "text": [
      "torch.Size([64, 3, 128, 128])\n",
      "torch.Size([64, 1])\n"
     ]
    }
   ],
   "source": [
    "print(next(iter(train_dataloader))[0].shape)  #torch.Size([128, 3, 128, 128])\n",
    "print(next(iter(train_dataloader))[2].shape)  #torch.Size([128])"
   ]
  },
  {
   "cell_type": "code",
   "execution_count": 5,
   "metadata": {},
   "outputs": [
    {
     "name": "stdout",
     "output_type": "stream",
     "text": [
      "VGGNet(\n",
      "  (features): VGG(\n",
      "    (features): Sequential(\n",
      "      (0): Conv2d(3, 64, kernel_size=(3, 3), stride=(1, 1), padding=(1, 1))\n",
      "      (1): ReLU(inplace)\n",
      "      (2): Conv2d(64, 64, kernel_size=(3, 3), stride=(1, 1), padding=(1, 1))\n",
      "      (3): ReLU(inplace)\n",
      "      (4): MaxPool2d(kernel_size=2, stride=2, padding=0, dilation=1, ceil_mode=False)\n",
      "      (5): Conv2d(64, 128, kernel_size=(3, 3), stride=(1, 1), padding=(1, 1))\n",
      "      (6): ReLU(inplace)\n",
      "      (7): Conv2d(128, 128, kernel_size=(3, 3), stride=(1, 1), padding=(1, 1))\n",
      "      (8): ReLU(inplace)\n",
      "      (9): MaxPool2d(kernel_size=2, stride=2, padding=0, dilation=1, ceil_mode=False)\n",
      "      (10): Conv2d(128, 256, kernel_size=(3, 3), stride=(1, 1), padding=(1, 1))\n",
      "      (11): ReLU(inplace)\n",
      "      (12): Conv2d(256, 256, kernel_size=(3, 3), stride=(1, 1), padding=(1, 1))\n",
      "      (13): ReLU(inplace)\n",
      "      (14): Conv2d(256, 256, kernel_size=(3, 3), stride=(1, 1), padding=(1, 1))\n",
      "      (15): ReLU(inplace)\n",
      "      (16): MaxPool2d(kernel_size=2, stride=2, padding=0, dilation=1, ceil_mode=False)\n",
      "      (17): Conv2d(256, 512, kernel_size=(3, 3), stride=(1, 1), padding=(1, 1))\n",
      "      (18): ReLU(inplace)\n",
      "      (19): Conv2d(512, 512, kernel_size=(3, 3), stride=(1, 1), padding=(1, 1))\n",
      "      (20): ReLU(inplace)\n",
      "      (21): Conv2d(512, 512, kernel_size=(3, 3), stride=(1, 1), padding=(1, 1))\n",
      "      (22): ReLU(inplace)\n",
      "      (23): MaxPool2d(kernel_size=2, stride=2, padding=0, dilation=1, ceil_mode=False)\n",
      "      (24): Conv2d(512, 512, kernel_size=(3, 3), stride=(1, 1), padding=(1, 1))\n",
      "      (25): ReLU(inplace)\n",
      "      (26): Conv2d(512, 512, kernel_size=(3, 3), stride=(1, 1), padding=(1, 1))\n",
      "      (27): ReLU(inplace)\n",
      "      (28): Conv2d(512, 512, kernel_size=(3, 3), stride=(1, 1), padding=(1, 1))\n",
      "      (29): ReLU(inplace)\n",
      "      (30): MaxPool2d(kernel_size=2, stride=2, padding=0, dilation=1, ceil_mode=False)\n",
      "    )\n",
      "    (avgpool): AdaptiveAvgPool2d(output_size=(7, 7))\n",
      "    (classifier): Sequential()\n",
      "  )\n",
      "  (classifier): Sequential(\n",
      "    (0): Linear(in_features=25088, out_features=1024, bias=True)\n",
      "    (1): ReLU(inplace)\n",
      "    (2): Dropout(p=0.3)\n",
      "    (3): Linear(in_features=1024, out_features=1024, bias=True)\n",
      "    (4): ReLU(inplace)\n",
      "    (5): Dropout(p=0.3)\n",
      "    (6): Linear(in_features=1024, out_features=460, bias=True)\n",
      "  )\n",
      ")\n"
     ]
    }
   ],
   "source": [
    "class VGGNet(nn.Module):\n",
    "    def __init__(self, num_classes=460):   # num_classes，此处为 二分类值为2\n",
    "        super(VGGNet, self).__init__()\n",
    "        net = models.vgg16(pretrained=True)   # 从预训练模型加载VGG16网络参数\n",
    "        net.classifier = nn.Sequential()  # 将分类层置空，下面将改变我们的分类层\n",
    "        self.features = net  # 保留VGG16的特征层\n",
    "        self.classifier = nn.Sequential(    # 定义自己的分类层\n",
    "                nn.Linear(512 * 7 * 7, 1024),  #512 * 7 * 7不能改变 ，由VGG16网络决定的，第二个参数为神经元个数可以微调\n",
    "                nn.ReLU(True),\n",
    "                nn.Dropout(0.3),\n",
    "                nn.Linear(1024, 1024),\n",
    "                nn.ReLU(True),\n",
    "                nn.Dropout(0.3),\n",
    "                nn.Linear(1024, num_classes),\n",
    "        )\n",
    "\n",
    "    def forward(self, x):\n",
    "        x = self.features(x) # 预训练提供的提取特征的部分\n",
    "        x = x.view(x.size(0), -1)\n",
    "        x = self.classifier(x) # 自定义的分类部分\n",
    "        return x\n",
    "net = VGGNet().to(device)\n",
    "print(net)"
   ]
  },
  {
   "cell_type": "markdown",
   "metadata": {},
   "source": [
    "# 冻结解冻层"
   ]
  },
  {
   "cell_type": "code",
   "execution_count": 6,
   "metadata": {},
   "outputs": [],
   "source": [
    "from collections.abc import Iterable\n",
    "def set_freeze_by_names(model, layer_names, freeze=True):\n",
    "    if not isinstance(layer_names, Iterable):\n",
    "        layer_names = [layer_names]\n",
    "    for name, child in model.named_children():\n",
    "        if name not in layer_names:\n",
    "            continue\n",
    "        for param in child.parameters():\n",
    "            param.requires_grad = not freeze\n",
    "\n",
    "def freeze_by_names(model, layer_names):   #冻结某层\n",
    "    set_freeze_by_names(model, layer_names, True)\n",
    "\n",
    "def unfreeze_by_names(model, layer_names):  #解冻某层\n",
    "    set_freeze_by_names(model, layer_names, False)\n",
    "    \n",
    "freeze_by_names(net,['features','avgpool','classifier'])\n",
    "unfreeze_by_names(net,'classifier')"
   ]
  },
  {
   "cell_type": "code",
   "execution_count": 7,
   "metadata": {},
   "outputs": [],
   "source": [
    "class Simaenet(nn.Module):\n",
    "    def __init__(self, fnet):   \n",
    "        super(Simaenet, self).__init__()\n",
    "        self.fnet=fnet\n",
    "        self.dnet=nn.Sequential(    # 定义自己的分类层\n",
    "                nn.Linear(920, 100),  #512 * 7 * 7不能改变 ，由VGG16网络决定的，第二个参数为神经元个数可以微调\n",
    "                nn.ReLU(True),\n",
    "                nn.Linear(100, 1),\n",
    "                nn.Sigmoid()\n",
    "        )\n",
    "    def forward(self,x1,x2):\n",
    "        self.out1=self.fnet(x1)\n",
    "        self.out2=self.fnet(x2)\n",
    "        self.out=torch.cat((self.out1,self.out2),1)\n",
    "        score=self.dnet(self.out)\n",
    "        return score\n",
    "    \n",
    "Simanet=Simaenet(net).cuda()"
   ]
  },
  {
   "cell_type": "code",
   "execution_count": 8,
   "metadata": {},
   "outputs": [
    {
     "data": {
      "text/plain": [
       "BCELoss()"
      ]
     },
     "execution_count": 8,
     "metadata": {},
     "output_type": "execute_result"
    }
   ],
   "source": [
    "optimizer = optim.Adam(Simanet.parameters(), lr=0.0005)\n",
    "#criterion = nn.MSELoss()\n",
    "criterion=nn.BCELoss()\n",
    "criterion.to(device=device)"
   ]
  },
  {
   "cell_type": "markdown",
   "metadata": {},
   "source": [
    "# 训练模型"
   ]
  },
  {
   "cell_type": "code",
   "execution_count": 9,
   "metadata": {},
   "outputs": [
    {
     "name": "stdout",
     "output_type": "stream",
     "text": [
      "Epoch number: 0 , Current loss: 0.6909\n",
      "\n",
      "Epoch number: 1 , Current loss: 0.6908\n",
      "\n",
      "Epoch number: 2 , Current loss: 0.6850\n",
      "\n"
     ]
    }
   ],
   "source": [
    "epochs=50\n",
    "counter = []\n",
    "loss_history = [] \n",
    "iteration_number = 0\n",
    "\n",
    "\n",
    "#开始训练\n",
    "for epoch in range(0, EPOCH):\n",
    "    for i, data in enumerate(train_dataloader, 0):\n",
    "        img1, img2 , y = data\n",
    "        #img0维度为torch.Size([32, 1, 100, 100])，32是batch，label为torch.Size([32, 1])\n",
    "        img1, img2 , y = img1.cuda(), img2.cuda(), y.cuda() #数据移至GPU\n",
    "        optimizer.zero_grad()\n",
    "        output=Simanet(img1,img2)\n",
    "        loss_ = criterion(output, y)\n",
    "        loss_.backward()\n",
    "        optimizer.step()\n",
    "        if i % 10 == 0 :\n",
    "            iteration_number +=10\n",
    "            counter.append(iteration_number)\n",
    "            loss_history.append(loss_.item())\n",
    "    print(\"Epoch number: {} , Current loss: {:.4f}\\n\".format(epoch,loss_.item()))"
   ]
  },
  {
   "cell_type": "code",
   "execution_count": 10,
   "metadata": {},
   "outputs": [
    {
     "data": {
      "image/png": "[encoded data removed]",
      "text/plain": [
       "<Figure size 432x288 with 1 Axes>"
      ]
     },
     "metadata": {
      "needs_background": "light"
     },
     "output_type": "display_data"
    }
   ],
   "source": [
    "def plot_loss(iteration,loss):\n",
    "    plt.plot(iteration,loss)        \n",
    "    plt.show()\n",
    "    \n",
    "plot_loss(counter, loss_history)"
   ]
  },
  {
   "cell_type": "code",
   "execution_count": 11,
   "metadata": {},
   "outputs": [
    {
     "name": "stdout",
     "output_type": "stream",
     "text": [
      "15\n"
     ]
    }
   ],
   "source": [
    "print(len(counter))"
   ]
  },
  {
   "cell_type": "markdown",
   "metadata": {},
   "source": [
    "# 测试模型"
   ]
  },
  {
   "cell_type": "code",
   "execution_count": 12,
   "metadata": {},
   "outputs": [
    {
     "name": "stdout",
     "output_type": "stream",
     "text": [
      "0.5701707601547241\n"
     ]
    }
   ],
   "source": [
    "losses=[]\n",
    "for i, data in enumerate(train_dataloader, 0):\n",
    "    img1, img2 , y = data\n",
    "    #img0维度为torch.Size([32, 1, 100, 100])，32是batch，label为torch.Size([32, 1])\n",
    "    img1, img2 , y = img1.cuda(), img2.cuda(), y.cuda() #数据移至GPU\n",
    "    output=Simanet(img1,img2)\n",
    "    loss_ = criterion(output, y)\n",
    "    if i % 10 == 0 :\n",
    "            losses.append(loss_.item())\n",
    "print(sum(losses)/len(losses))"
   ]
  },
  {
   "cell_type": "markdown",
   "metadata": {},
   "source": [
    "# 可视化"
   ]
  },
  {
   "cell_type": "code",
   "execution_count": 13,
   "metadata": {},
   "outputs": [
    {
     "data": {
      "image/png": "[encoded data removed]",
      "text/plain": [
       "<Figure size 432x288 with 1 Axes>"
      ]
     },
     "metadata": {
      "needs_background": "light"
     },
     "output_type": "display_data"
    },
    {
     "name": "stdout",
     "output_type": "stream",
     "text": [
      "true:\n",
      "[[1.]\n",
      " [1.]\n",
      " [1.]\n",
      " [1.]\n",
      " [1.]\n",
      " [0.]]\n",
      "pre\n",
      "tensor([0], device='cuda:0', dtype=torch.uint8)\n",
      "tensor([0], device='cuda:0', dtype=torch.uint8)\n",
      "tensor([0], device='cuda:0', dtype=torch.uint8)\n",
      "tensor([1], device='cuda:0', dtype=torch.uint8)\n",
      "tensor([0], device='cuda:0', dtype=torch.uint8)\n",
      "tensor([0], device='cuda:0', dtype=torch.uint8)\n"
     ]
    }
   ],
   "source": [
    "def show_img(img0,title=None):\n",
    "    img=img0.numpy()\n",
    "    plt.axis(\"off\")\n",
    "    if title:\n",
    "        plt.text(75, 8, text, style='italic',fontweight='bold',bbox={'facecolor':'white', 'alpha':0.8, 'pad':10})\n",
    "    plt.imshow(np.transpose(img,(1,2,0)))\n",
    "    plt.show()\n",
    "\n",
    "test_dataloader=DataLoader(siamese_dataset,shuffle=True,batch_size=6)\n",
    "x1,x2,y=next(iter(test_dataloader))\n",
    "concatenated = torch.cat((x1,x2),0) \n",
    "show_img(torchvision.utils.make_grid(concatenated, nrow=6))\n",
    "print('true:')\n",
    "print(y.numpy())\n",
    "      \n",
    "print('pre')\n",
    "x1,x2,y=x1.cuda(),x2.cuda(),y.cuda()\n",
    "output=Simanet(x1,x2)\n",
    "\n",
    "for i in range(6):\n",
    "    flag=output[i]>0.66\n",
    "    print(flag)"
   ]
  },
  {
   "cell_type": "markdown",
   "metadata": {},
   "source": [
    "# 计算准确率"
   ]
  },
  {
   "cell_type": "code",
   "execution_count": 30,
   "metadata": {},
   "outputs": [
    {
     "name": "stdout",
     "output_type": "stream",
     "text": [
      "[0.625, 0.625, 0.65625, 0.5625, 0.5625, 0.59375, 0.71875, 0.625, 0.78125, 0.65625]\n"
     ]
    }
   ],
   "source": [
    "v_batch_size=32\n",
    "v_epoch=10\n",
    "acc=[]\n",
    "\n",
    "for k in range(v_epoch):\n",
    "    test_dataloader=DataLoader(siamese_dataset,shuffle=True,batch_size=v_batch_size)\n",
    "    x1,x2,y=next(iter(test_dataloader))\n",
    "    true=y.numpy()\n",
    "    \n",
    "    x1,x2,y=x1.cuda(),x2.cuda(),y.cuda()\n",
    "    output=Simanet(x1,x2)\n",
    "    preds=[]\n",
    "    for i in range(len(output)):\n",
    "        flag=output[i]>0.22\n",
    "        preds.append(flag)\n",
    "    train_correct = (preds == true.squeeze(1)).sum()\n",
    "    acc.append(train_correct/len(output))\n",
    "print(sum(acc)/v_epoch)"
   ]
  },
  {
   "cell_type": "code",
   "execution_count": 19,
   "metadata": {},
   "outputs": [
    {
     "name": "stdout",
     "output_type": "stream",
     "text": [
      "[[0.53125, 0.5625, 0.59375, 0.75, 0.6875, 0.625, 0.4375, 0.46875, 0.46875, 0.46875], [0.53125, 0.5625, 0.65625, 0.65625, 0.65625, 0.65625, 0.53125, 0.5, 0.46875, 0.46875], [0.5625, 0.75, 0.8125, 0.75, 0.71875, 0.65625, 0.46875, 0.46875, 0.4375, 0.4375], [0.5625, 0.53125, 0.59375, 0.5625, 0.625, 0.46875, 0.5, 0.4375, 0.4375, 0.4375], [0.65625, 0.71875, 0.84375, 0.84375, 0.78125, 0.71875, 0.4375, 0.34375, 0.34375, 0.34375], [0.53125, 0.5625, 0.65625, 0.625, 0.625, 0.5, 0.46875, 0.46875, 0.46875, 0.46875], [0.46875, 0.53125, 0.53125, 0.59375, 0.5625, 0.59375, 0.53125, 0.53125, 0.53125, 0.53125], [0.59375, 0.625, 0.625, 0.75, 0.6875, 0.59375, 0.5, 0.40625, 0.40625, 0.40625], [0.4375, 0.5625, 0.59375, 0.71875, 0.78125, 0.75, 0.59375, 0.59375, 0.5625, 0.5625], [0.46875, 0.5625, 0.59375, 0.625, 0.75, 0.6875, 0.625, 0.5625, 0.53125, 0.53125]]\n"
     ]
    }
   ],
   "source": [
    "v_batch_size=32\n",
    "v_epoch=10\n",
    "total_acc=[]\n",
    "\n",
    "for k in range(v_epoch):\n",
    "    test_dataloader=DataLoader(siamese_dataset,shuffle=True,batch_size=v_batch_size)\n",
    "    x1,x2,y=next(iter(test_dataloader))\n",
    "    true=y.numpy()\n",
    "    \n",
    "    x1,x2,y=x1.cuda(),x2.cuda(),y.cuda()\n",
    "    output=Simanet(x1,x2)\n",
    "    acc=[]\n",
    "    for t in  np.linspace(0,1,10):\n",
    "        preds=[]\n",
    "        for i in range(len(output)):\n",
    "            flag=output[i]>t\n",
    "            preds.append(flag)\n",
    "        train_correct = (preds == true.squeeze(1)).sum()\n",
    "        acc.append(train_correct/len(output))\n",
    "    total_acc.append(acc)\n",
    "print(total_acc)"
   ]
  },
  {
   "cell_type": "code",
   "execution_count": 25,
   "metadata": {},
   "outputs": [
    {
     "name": "stdout",
     "output_type": "stream",
     "text": [
      "[0.65625, 0.71875, 0.84375, 0.84375, 0.78125, 0.71875, 0.4375, 0.34375, 0.34375, 0.34375]\n"
     ]
    }
   ],
   "source": [
    "print(max(total_acc))"
   ]
  },
  {
   "cell_type": "code",
   "execution_count": 26,
   "metadata": {},
   "outputs": [
    {
     "name": "stdout",
     "output_type": "stream",
     "text": [
      "[0.         0.11111111 0.22222222 0.33333333 0.44444444 0.55555556\n",
      " 0.66666667 0.77777778 0.88888889 1.        ]\n"
     ]
    }
   ],
   "source": [
    "print(np.linspace(0,1,10))"
   ]
  },
  {
   "cell_type": "code",
   "execution_count": null,
   "metadata": {},
   "outputs": [],
   "source": []
  }
 ],
 "metadata": {
  "kernelspec": {
   "display_name": "Python [conda env:pyenv] *",
   "language": "python",
   "name": "conda-env-pyenv-py"
  },
  "language_info": {
   "codemirror_mode": {
    "name": "ipython",
    "version": 3
   },
   "file_extension": ".py",
   "mimetype": "text/x-python",
   "name": "python",
   "nbconvert_exporter": "python",
   "pygments_lexer": "ipython3",
   "version": "3.6.9"
  }
 },
 "nbformat": 4,
 "nbformat_minor": 2
}
