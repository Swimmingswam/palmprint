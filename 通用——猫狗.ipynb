{
 "cells": [
  {
   "cell_type": "code",
   "execution_count": 1,
   "metadata": {},
   "outputs": [],
   "source": [
    "import torch\n",
    "import os\n",
    "import glob\n",
    "import numpy as np\n",
    "import random\n",
    "import torchvision\n",
    "\n",
    "path ='D:\\\\数据库\\\\dog_vs_cat'"
   ]
  },
  {
   "cell_type": "markdown",
   "metadata": {},
   "source": [
    "# 猫狗数据分装"
   ]
  },
  {
   "cell_type": "code",
   "execution_count": 2,
   "metadata": {},
   "outputs": [],
   "source": [
    "# files=glob(os.path.join(path,'*/*.jpg'))  #一共有25000个样本\n",
    "# print(f'total number of images {len(files)}')\n",
    "# num_of_images=len(files)\n",
    "\n",
    "# #创建可用于创建验证集的混合索引\n",
    "# shuffle=np.random.permutation(num_of_images)  #返回25000个0~25000内的无序排列数字\n",
    "\n",
    "# #创建验证集目录\n",
    "# os.mkdir(os.path.join(path,'valid'))\n",
    "\n",
    "# #使用标签名创建目录\n",
    "# for t in ['train','vaild']:\n",
    "#     for folder in ['dog/','cat/']:\n",
    "#         os.mkdir(os.path.join(path,t,folder))\n",
    "        \n",
    "# #将图片的2000张复制到验证集目录\n",
    "# for i in shuffle[:2000]:\n",
    "#     folder=files[i].split('/')[-1].split('.')[0]\n",
    "#     image=files[i].split('/')[-1]\n",
    "#     os.rename(files[i],os.path.join(path,'valid',folder,image))\n",
    "\n",
    "# #将图片的剩余部分复制到训练集目录\n",
    "# for i in shuffle[2000:]:\n",
    "#     folder=files[i].split('/')[-1].split('.')[0]\n",
    "#     image=files[i].split('/')[-1]\n",
    "#     os.rename(files[i],os.path.join(path,'train',folder,image))"
   ]
  },
  {
   "cell_type": "markdown",
   "metadata": {},
   "source": [
    "# 数据加载到pytorch张量"
   ]
  },
  {
   "cell_type": "code",
   "execution_count": 3,
   "metadata": {},
   "outputs": [
    {
     "name": "stderr",
     "output_type": "stream",
     "text": [
      "D:\\anconda\\envs\\pyenv\\lib\\site-packages\\torchvision\\transforms\\transforms.py:220: UserWarning: The use of the transforms.Scale transform is deprecated, please use transforms.Resize instead.\n",
      "  \"please use transforms.Resize instead.\")\n"
     ]
    },
    {
     "name": "stdout",
     "output_type": "stream",
     "text": [
      "{'cat': 0, 'dog': 1}\n",
      "['cat', 'dog']\n"
     ]
    }
   ],
   "source": [
    "from torchvision.datasets import ImageFolder  #用于加载自己数据集的图片及标签\n",
    "from torchvision import transforms\n",
    "\n",
    "simaple_transforms=transforms.Compose([transforms.Scale((28,28)),\n",
    "                                       transforms.ToTensor(),\n",
    "                                       transforms.Normalize([0.485,0.456,0.406],[0.229,0.224,0.225])])\n",
    "\n",
    "train=ImageFolder(os.path.join(path,'train/'),simaple_transforms)\n",
    "valid=ImageFolder(os.path.join(path,'valid/'),simaple_transforms)\n",
    "\n",
    "print(train.class_to_idx)\n",
    "print(train.classes)"
   ]
  },
  {
   "cell_type": "markdown",
   "metadata": {},
   "source": [
    "# 可视化张量"
   ]
  },
  {
   "cell_type": "code",
   "execution_count": 4,
   "metadata": {},
   "outputs": [
    {
     "data": {
      "image/png": "[encoded data removed]",
      "text/plain": [
       "<Figure size 432x288 with 1 Axes>"
      ]
     },
     "metadata": {
      "needs_background": "light"
     },
     "output_type": "display_data"
    }
   ],
   "source": [
    "import matplotlib.pyplot as plt\n",
    "\n",
    "def imshow(inp):\n",
    "    inp=inp.numpy().transpose((1,2,0))\n",
    "    mean=np.array([[0.485,0.456,0.406]])\n",
    "    std=np.array([0.229,0.224,0.225])\n",
    "    inp=std*inp+mean\n",
    "    inp=np.clip(inp,0,1)\n",
    "    plt.imshow(inp)\n",
    "    \n",
    "imshow(train[50][0])"
   ]
  },
  {
   "cell_type": "code",
   "execution_count": 5,
   "metadata": {},
   "outputs": [
    {
     "data": {
      "text/plain": [
       "torch.Size([28, 28, 3])"
      ]
     },
     "execution_count": 5,
     "metadata": {},
     "output_type": "execute_result"
    },
    {
     "data": {
      "image/png": "[encoded data removed]",
      "text/plain": [
       "<Figure size 432x288 with 1 Axes>"
      ]
     },
     "metadata": {
      "needs_background": "light"
     },
     "output_type": "display_data"
    }
   ],
   "source": [
    "# 或者\n",
    "from PIL import Image\n",
    "cat=np.array(Image.open('D:\\\\数据库\\\\dog_vs_cat\\\\train\\\\cat\\\\cat.0.jpg').resize((28,28)))\n",
    "plt.imshow(cat)\n",
    "\n",
    "cat_tensor=torch.from_numpy(cat)\n",
    "cat_tensor.size()  #torch.Size([224, 224, 3])"
   ]
  },
  {
   "cell_type": "markdown",
   "metadata": {},
   "source": [
    "# 按批加载pytorch张量"
   ]
  },
  {
   "cell_type": "code",
   "execution_count": 6,
   "metadata": {},
   "outputs": [],
   "source": [
    "from torch.utils.data import DataLoader\n",
    "\n",
    "train_loader=DataLoader(train,batch_size=64,num_workers=0)\n",
    "valid_loader=DataLoader(valid,batch_size=64,num_workers=0)"
   ]
  },
  {
   "cell_type": "markdown",
   "metadata": {},
   "source": [
    "# 构造网络——用resnet"
   ]
  },
  {
   "cell_type": "code",
   "execution_count": 7,
   "metadata": {},
   "outputs": [],
   "source": [
    "from torchvision import models\n",
    "import torch.nn as nn\n",
    "\n",
    "model_res18=models.resnet18(pretrained=True)\n",
    "num_in=model_res18.fc.in_features\n",
    "model_res18.fc=nn.Linear(num_in,2)\n",
    "\n",
    "is_cuda=True\n",
    "if is_cuda:\n",
    "    model_res18=model_res18.cuda()"
   ]
  },
  {
   "cell_type": "code",
   "execution_count": 8,
   "metadata": {},
   "outputs": [
    {
     "name": "stdout",
     "output_type": "stream",
     "text": [
      "ResNet(\n",
      "  (conv1): Conv2d(3, 64, kernel_size=(7, 7), stride=(2, 2), padding=(3, 3), bias=False)\n",
      "  (bn1): BatchNorm2d(64, eps=1e-05, momentum=0.1, affine=True, track_running_stats=True)\n",
      "  (relu): ReLU(inplace)\n",
      "  (maxpool): MaxPool2d(kernel_size=3, stride=2, padding=1, dilation=1, ceil_mode=False)\n",
      "  (layer1): Sequential(\n",
      "    (0): BasicBlock(\n",
      "      (conv1): Conv2d(64, 64, kernel_size=(3, 3), stride=(1, 1), padding=(1, 1), bias=False)\n",
      "      (bn1): BatchNorm2d(64, eps=1e-05, momentum=0.1, affine=True, track_running_stats=True)\n",
      "      (relu): ReLU(inplace)\n",
      "      (conv2): Conv2d(64, 64, kernel_size=(3, 3), stride=(1, 1), padding=(1, 1), bias=False)\n",
      "      (bn2): BatchNorm2d(64, eps=1e-05, momentum=0.1, affine=True, track_running_stats=True)\n",
      "    )\n",
      "    (1): BasicBlock(\n",
      "      (conv1): Conv2d(64, 64, kernel_size=(3, 3), stride=(1, 1), padding=(1, 1), bias=False)\n",
      "      (bn1): BatchNorm2d(64, eps=1e-05, momentum=0.1, affine=True, track_running_stats=True)\n",
      "      (relu): ReLU(inplace)\n",
      "      (conv2): Conv2d(64, 64, kernel_size=(3, 3), stride=(1, 1), padding=(1, 1), bias=False)\n",
      "      (bn2): BatchNorm2d(64, eps=1e-05, momentum=0.1, affine=True, track_running_stats=True)\n",
      "    )\n",
      "  )\n",
      "  (layer2): Sequential(\n",
      "    (0): BasicBlock(\n",
      "      (conv1): Conv2d(64, 128, kernel_size=(3, 3), stride=(2, 2), padding=(1, 1), bias=False)\n",
      "      (bn1): BatchNorm2d(128, eps=1e-05, momentum=0.1, affine=True, track_running_stats=True)\n",
      "      (relu): ReLU(inplace)\n",
      "      (conv2): Conv2d(128, 128, kernel_size=(3, 3), stride=(1, 1), padding=(1, 1), bias=False)\n",
      "      (bn2): BatchNorm2d(128, eps=1e-05, momentum=0.1, affine=True, track_running_stats=True)\n",
      "      (downsample): Sequential(\n",
      "        (0): Conv2d(64, 128, kernel_size=(1, 1), stride=(2, 2), bias=False)\n",
      "        (1): BatchNorm2d(128, eps=1e-05, momentum=0.1, affine=True, track_running_stats=True)\n",
      "      )\n",
      "    )\n",
      "    (1): BasicBlock(\n",
      "      (conv1): Conv2d(128, 128, kernel_size=(3, 3), stride=(1, 1), padding=(1, 1), bias=False)\n",
      "      (bn1): BatchNorm2d(128, eps=1e-05, momentum=0.1, affine=True, track_running_stats=True)\n",
      "      (relu): ReLU(inplace)\n",
      "      (conv2): Conv2d(128, 128, kernel_size=(3, 3), stride=(1, 1), padding=(1, 1), bias=False)\n",
      "      (bn2): BatchNorm2d(128, eps=1e-05, momentum=0.1, affine=True, track_running_stats=True)\n",
      "    )\n",
      "  )\n",
      "  (layer3): Sequential(\n",
      "    (0): BasicBlock(\n",
      "      (conv1): Conv2d(128, 256, kernel_size=(3, 3), stride=(2, 2), padding=(1, 1), bias=False)\n",
      "      (bn1): BatchNorm2d(256, eps=1e-05, momentum=0.1, affine=True, track_running_stats=True)\n",
      "      (relu): ReLU(inplace)\n",
      "      (conv2): Conv2d(256, 256, kernel_size=(3, 3), stride=(1, 1), padding=(1, 1), bias=False)\n",
      "      (bn2): BatchNorm2d(256, eps=1e-05, momentum=0.1, affine=True, track_running_stats=True)\n",
      "      (downsample): Sequential(\n",
      "        (0): Conv2d(128, 256, kernel_size=(1, 1), stride=(2, 2), bias=False)\n",
      "        (1): BatchNorm2d(256, eps=1e-05, momentum=0.1, affine=True, track_running_stats=True)\n",
      "      )\n",
      "    )\n",
      "    (1): BasicBlock(\n",
      "      (conv1): Conv2d(256, 256, kernel_size=(3, 3), stride=(1, 1), padding=(1, 1), bias=False)\n",
      "      (bn1): BatchNorm2d(256, eps=1e-05, momentum=0.1, affine=True, track_running_stats=True)\n",
      "      (relu): ReLU(inplace)\n",
      "      (conv2): Conv2d(256, 256, kernel_size=(3, 3), stride=(1, 1), padding=(1, 1), bias=False)\n",
      "      (bn2): BatchNorm2d(256, eps=1e-05, momentum=0.1, affine=True, track_running_stats=True)\n",
      "    )\n",
      "  )\n",
      "  (layer4): Sequential(\n",
      "    (0): BasicBlock(\n",
      "      (conv1): Conv2d(256, 512, kernel_size=(3, 3), stride=(2, 2), padding=(1, 1), bias=False)\n",
      "      (bn1): BatchNorm2d(512, eps=1e-05, momentum=0.1, affine=True, track_running_stats=True)\n",
      "      (relu): ReLU(inplace)\n",
      "      (conv2): Conv2d(512, 512, kernel_size=(3, 3), stride=(1, 1), padding=(1, 1), bias=False)\n",
      "      (bn2): BatchNorm2d(512, eps=1e-05, momentum=0.1, affine=True, track_running_stats=True)\n",
      "      (downsample): Sequential(\n",
      "        (0): Conv2d(256, 512, kernel_size=(1, 1), stride=(2, 2), bias=False)\n",
      "        (1): BatchNorm2d(512, eps=1e-05, momentum=0.1, affine=True, track_running_stats=True)\n",
      "      )\n",
      "    )\n",
      "    (1): BasicBlock(\n",
      "      (conv1): Conv2d(512, 512, kernel_size=(3, 3), stride=(1, 1), padding=(1, 1), bias=False)\n",
      "      (bn1): BatchNorm2d(512, eps=1e-05, momentum=0.1, affine=True, track_running_stats=True)\n",
      "      (relu): ReLU(inplace)\n",
      "      (conv2): Conv2d(512, 512, kernel_size=(3, 3), stride=(1, 1), padding=(1, 1), bias=False)\n",
      "      (bn2): BatchNorm2d(512, eps=1e-05, momentum=0.1, affine=True, track_running_stats=True)\n",
      "    )\n",
      "  )\n",
      "  (avgpool): AdaptiveAvgPool2d(output_size=(1, 1))\n",
      "  (fc): Linear(in_features=512, out_features=2, bias=True)\n",
      ")\n"
     ]
    }
   ],
   "source": [
    "print(model_res18)"
   ]
  },
  {
   "cell_type": "markdown",
   "metadata": {},
   "source": [
    "# 定义损失和优化器"
   ]
  },
  {
   "cell_type": "code",
   "execution_count": 9,
   "metadata": {},
   "outputs": [],
   "source": [
    "lr=0.001\n",
    "loss=nn.CrossEntropyLoss()\n",
    "optimizer=torch.optim.SGD(model_res18.parameters(),lr=lr,momentum=0.9)\n",
    "lr_scheduler=torch.optim.lr_scheduler.StepLR(optimizer,step_size=7,gamma=0.1)"
   ]
  },
  {
   "cell_type": "markdown",
   "metadata": {},
   "source": [
    "# 训练模型"
   ]
  },
  {
   "cell_type": "code",
   "execution_count": 10,
   "metadata": {},
   "outputs": [
    {
     "name": "stdout",
     "output_type": "stream",
     "text": [
      "Epoch 0/9\n",
      "----------\n",
      "train Loss: 0.0024 Acc: 0.000000\n",
      "valid Loss: 0.7054 Acc: 1.000000\n",
      "\n",
      "Epoch 1/9\n",
      "----------\n",
      "train Loss: 0.0212 Acc: 0.000000\n",
      "valid Loss: 0.2890 Acc: 1.000000\n",
      "\n",
      "Epoch 2/9\n",
      "----------\n",
      "train Loss: 0.0123 Acc: 0.000000\n",
      "valid Loss: 0.3003 Acc: 1.000000\n",
      "\n",
      "Epoch 3/9\n",
      "----------\n",
      "train Loss: 0.0102 Acc: 0.000000\n",
      "valid Loss: 0.3930 Acc: 1.000000\n",
      "\n",
      "Epoch 4/9\n",
      "----------\n",
      "train Loss: 0.0095 Acc: 0.000000\n",
      "valid Loss: 0.3749 Acc: 1.000000\n",
      "\n",
      "Epoch 5/9\n",
      "----------\n",
      "train Loss: 0.0093 Acc: 0.000000\n",
      "valid Loss: 0.4318 Acc: 1.000000\n",
      "\n",
      "Epoch 6/9\n",
      "----------\n",
      "train Loss: 0.0090 Acc: 0.000000\n",
      "valid Loss: 0.4048 Acc: 1.000000\n",
      "\n",
      "Epoch 7/9\n",
      "----------\n",
      "train Loss: 0.0271 Acc: 0.000000\n",
      "valid Loss: 0.0914 Acc: 1.000000\n",
      "\n",
      "Epoch 8/9\n",
      "----------\n",
      "train Loss: 0.0099 Acc: 0.000000\n",
      "valid Loss: 0.0930 Acc: 1.000000\n",
      "\n",
      "Epoch 9/9\n",
      "----------\n",
      "train Loss: 0.0098 Acc: 0.000000\n",
      "valid Loss: 0.0948 Acc: 1.000000\n",
      "\n",
      "Training complete in 27m 21s\n",
      "Best val Acc: 1.0000\n"
     ]
    },
    {
     "data": {
      "text/plain": [
       "ResNet(\n",
       "  (conv1): Conv2d(3, 64, kernel_size=(7, 7), stride=(2, 2), padding=(3, 3), bias=False)\n",
       "  (bn1): BatchNorm2d(64, eps=1e-05, momentum=0.1, affine=True, track_running_stats=True)\n",
       "  (relu): ReLU(inplace)\n",
       "  (maxpool): MaxPool2d(kernel_size=3, stride=2, padding=1, dilation=1, ceil_mode=False)\n",
       "  (layer1): Sequential(\n",
       "    (0): BasicBlock(\n",
       "      (conv1): Conv2d(64, 64, kernel_size=(3, 3), stride=(1, 1), padding=(1, 1), bias=False)\n",
       "      (bn1): BatchNorm2d(64, eps=1e-05, momentum=0.1, affine=True, track_running_stats=True)\n",
       "      (relu): ReLU(inplace)\n",
       "      (conv2): Conv2d(64, 64, kernel_size=(3, 3), stride=(1, 1), padding=(1, 1), bias=False)\n",
       "      (bn2): BatchNorm2d(64, eps=1e-05, momentum=0.1, affine=True, track_running_stats=True)\n",
       "    )\n",
       "    (1): BasicBlock(\n",
       "      (conv1): Conv2d(64, 64, kernel_size=(3, 3), stride=(1, 1), padding=(1, 1), bias=False)\n",
       "      (bn1): BatchNorm2d(64, eps=1e-05, momentum=0.1, affine=True, track_running_stats=True)\n",
       "      (relu): ReLU(inplace)\n",
       "      (conv2): Conv2d(64, 64, kernel_size=(3, 3), stride=(1, 1), padding=(1, 1), bias=False)\n",
       "      (bn2): BatchNorm2d(64, eps=1e-05, momentum=0.1, affine=True, track_running_stats=True)\n",
       "    )\n",
       "  )\n",
       "  (layer2): Sequential(\n",
       "    (0): BasicBlock(\n",
       "      (conv1): Conv2d(64, 128, kernel_size=(3, 3), stride=(2, 2), padding=(1, 1), bias=False)\n",
       "      (bn1): BatchNorm2d(128, eps=1e-05, momentum=0.1, affine=True, track_running_stats=True)\n",
       "      (relu): ReLU(inplace)\n",
       "      (conv2): Conv2d(128, 128, kernel_size=(3, 3), stride=(1, 1), padding=(1, 1), bias=False)\n",
       "      (bn2): BatchNorm2d(128, eps=1e-05, momentum=0.1, affine=True, track_running_stats=True)\n",
       "      (downsample): Sequential(\n",
       "        (0): Conv2d(64, 128, kernel_size=(1, 1), stride=(2, 2), bias=False)\n",
       "        (1): BatchNorm2d(128, eps=1e-05, momentum=0.1, affine=True, track_running_stats=True)\n",
       "      )\n",
       "    )\n",
       "    (1): BasicBlock(\n",
       "      (conv1): Conv2d(128, 128, kernel_size=(3, 3), stride=(1, 1), padding=(1, 1), bias=False)\n",
       "      (bn1): BatchNorm2d(128, eps=1e-05, momentum=0.1, affine=True, track_running_stats=True)\n",
       "      (relu): ReLU(inplace)\n",
       "      (conv2): Conv2d(128, 128, kernel_size=(3, 3), stride=(1, 1), padding=(1, 1), bias=False)\n",
       "      (bn2): BatchNorm2d(128, eps=1e-05, momentum=0.1, affine=True, track_running_stats=True)\n",
       "    )\n",
       "  )\n",
       "  (layer3): Sequential(\n",
       "    (0): BasicBlock(\n",
       "      (conv1): Conv2d(128, 256, kernel_size=(3, 3), stride=(2, 2), padding=(1, 1), bias=False)\n",
       "      (bn1): BatchNorm2d(256, eps=1e-05, momentum=0.1, affine=True, track_running_stats=True)\n",
       "      (relu): ReLU(inplace)\n",
       "      (conv2): Conv2d(256, 256, kernel_size=(3, 3), stride=(1, 1), padding=(1, 1), bias=False)\n",
       "      (bn2): BatchNorm2d(256, eps=1e-05, momentum=0.1, affine=True, track_running_stats=True)\n",
       "      (downsample): Sequential(\n",
       "        (0): Conv2d(128, 256, kernel_size=(1, 1), stride=(2, 2), bias=False)\n",
       "        (1): BatchNorm2d(256, eps=1e-05, momentum=0.1, affine=True, track_running_stats=True)\n",
       "      )\n",
       "    )\n",
       "    (1): BasicBlock(\n",
       "      (conv1): Conv2d(256, 256, kernel_size=(3, 3), stride=(1, 1), padding=(1, 1), bias=False)\n",
       "      (bn1): BatchNorm2d(256, eps=1e-05, momentum=0.1, affine=True, track_running_stats=True)\n",
       "      (relu): ReLU(inplace)\n",
       "      (conv2): Conv2d(256, 256, kernel_size=(3, 3), stride=(1, 1), padding=(1, 1), bias=False)\n",
       "      (bn2): BatchNorm2d(256, eps=1e-05, momentum=0.1, affine=True, track_running_stats=True)\n",
       "    )\n",
       "  )\n",
       "  (layer4): Sequential(\n",
       "    (0): BasicBlock(\n",
       "      (conv1): Conv2d(256, 512, kernel_size=(3, 3), stride=(2, 2), padding=(1, 1), bias=False)\n",
       "      (bn1): BatchNorm2d(512, eps=1e-05, momentum=0.1, affine=True, track_running_stats=True)\n",
       "      (relu): ReLU(inplace)\n",
       "      (conv2): Conv2d(512, 512, kernel_size=(3, 3), stride=(1, 1), padding=(1, 1), bias=False)\n",
       "      (bn2): BatchNorm2d(512, eps=1e-05, momentum=0.1, affine=True, track_running_stats=True)\n",
       "      (downsample): Sequential(\n",
       "        (0): Conv2d(256, 512, kernel_size=(1, 1), stride=(2, 2), bias=False)\n",
       "        (1): BatchNorm2d(512, eps=1e-05, momentum=0.1, affine=True, track_running_stats=True)\n",
       "      )\n",
       "    )\n",
       "    (1): BasicBlock(\n",
       "      (conv1): Conv2d(512, 512, kernel_size=(3, 3), stride=(1, 1), padding=(1, 1), bias=False)\n",
       "      (bn1): BatchNorm2d(512, eps=1e-05, momentum=0.1, affine=True, track_running_stats=True)\n",
       "      (relu): ReLU(inplace)\n",
       "      (conv2): Conv2d(512, 512, kernel_size=(3, 3), stride=(1, 1), padding=(1, 1), bias=False)\n",
       "      (bn2): BatchNorm2d(512, eps=1e-05, momentum=0.1, affine=True, track_running_stats=True)\n",
       "    )\n",
       "  )\n",
       "  (avgpool): AdaptiveAvgPool2d(output_size=(1, 1))\n",
       "  (fc): Linear(in_features=512, out_features=2, bias=True)\n",
       ")"
      ]
     },
     "execution_count": 10,
     "metadata": {},
     "output_type": "execute_result"
    }
   ],
   "source": [
    "import time\n",
    "from torch.autograd import Variablec\n",
    "\n",
    "def train_model(model,loss_fn,optimizer,scheduler,num_epochs=10):\n",
    "    since=time.time()\n",
    "    \n",
    "    best_model=model.state_dict()\n",
    "    best_acc=0.0\n",
    "    \n",
    "    for epoch in range(num_epochs):\n",
    "        print('Epoch {}/{}'.format(epoch,num_epochs-1))\n",
    "        print('-'*10)\n",
    "        \n",
    "        #每轮都有训练和验证阶段\n",
    "        for phase in ['train','valid']:\n",
    "            if phase =='train':\n",
    "                scheduler.step()\n",
    "                model.train(True)\n",
    "            else:\n",
    "                model.train(False)\n",
    "                \n",
    "            running_loss=0.0\n",
    "            running_corrects=0\n",
    "            \n",
    "            #在批数据上迭代\n",
    "            for data in dataloaders[phase]:\n",
    "                inputs,labels=data\n",
    "                \n",
    "                if is_cuda:\n",
    "                    inputs=Variable(inputs.cuda())\n",
    "                    labels=Variable(labels.cuda())\n",
    "                else:\n",
    "                    inputs,labels=Variable(inputs),Variable(labels)\n",
    "                    \n",
    "                optimizer.zero_grad()\n",
    "                    \n",
    "                outputs=model(inputs)\n",
    "                #print(outputs.shape) # ([64, 2])\n",
    "                #print(labels.shape)  #([64])\n",
    "                _,preds=torch.max(outputs.data,1)\n",
    "                loss=loss_fn(outputs,labels)\n",
    "                    \n",
    "                #只在训练阶段反传\n",
    "                if phase=='train':\n",
    "                    loss.backward()\n",
    "                    optimizer.step()\n",
    "                        \n",
    "                #统计一个epoch内的平均损失和准去率\n",
    "                running_loss+=loss.data\n",
    "                running_corrects+=torch.sum(preds==labels.data)\n",
    "                    \n",
    "            epoch_loss=running_loss/datasets_sizes[phase]\n",
    "            epoch_acc=running_corrects/datasets_sizes[phase]\n",
    "                \n",
    "            print('{} Loss: {:.4f} Acc: {:4f}'.format(phase,epoch_loss,epoch_acc))\n",
    "                \n",
    "            #深度复制模型\n",
    "            if phase=='valid' and epoch_acc>best_acc:\n",
    "                best_acc=epoch_acc\n",
    "                best_model=model.state_dict()\n",
    "            \n",
    "        print()\n",
    "        \n",
    "    time_elapsed=time.time()-since\n",
    "    print('Training complete in {:.0f}m {:.0f}s'.format(time_elapsed // 60,time_elapsed % 60))\n",
    "    print('Best val Acc: {:.4f}'.format(best_acc))\n",
    "        \n",
    "    #加载最优权重\n",
    "    model.load_state_dict(best_model)\n",
    "    return model               \n",
    "\n",
    "dataloaders={'train':train_loader,'valid':valid_loader}\n",
    "datasets_sizes={'train':23000,'valid':2000}\n",
    "train_model(model_res18,loss,optimizer,lr_scheduler,num_epochs=10)"
   ]
  },
  {
   "cell_type": "markdown",
   "metadata": {},
   "source": [
    "# 定义训练模型函数"
   ]
  },
  {
   "cell_type": "code",
   "execution_count": 11,
   "metadata": {},
   "outputs": [],
   "source": [
    "def fit(epoch,model,data_loader,phase='training',volatile=False,dataset_size=23000):\n",
    "    if phase == 'training':\n",
    "        model.train()\n",
    "    if phase == 'validation':\n",
    "        model.eval()\n",
    "        volatile=True\n",
    "    running_loss=0.0\n",
    "    running_correct=0\n",
    "    for batch_idx,(data,target) in enumerate(data_loader):\n",
    "        if is_cuda:\n",
    "            data,target=data.cuda(),target.cuda()\n",
    "        data,target=Variable(data,volatile),Variable(target)\n",
    "        \n",
    "        if phase =='training':\n",
    "            optimizer.zero_grad()\n",
    "            \n",
    "        output=model(data)\n",
    "        loss=loss_fn(output,target)\n",
    "        running_loss+=loss_fn(output,target).data\n",
    "        preds=output.data.max(dim=1,keepdim=True)[1]\n",
    "        running_correct+=preds.eq(target.data.view_as(preds)).cpu().sum()\n",
    "        if phase == 'training':\n",
    "            loss.backward()\n",
    "            optimizer.step()\n",
    "            \n",
    "    loss=running_loss/dataset_size\n",
    "    accuracy=100.*running_correct/dataset_size\n",
    "    print(f'{phase} loss is {loss} and {phase} accuracy is {running_correct}/{dataset_size}{accuracy}')\n",
    "    return loss,accuracy"
   ]
  },
  {
   "cell_type": "markdown",
   "metadata": {},
   "source": [
    "# 训练模型2"
   ]
  },
  {
   "cell_type": "code",
   "execution_count": 12,
   "metadata": {},
   "outputs": [
    {
     "name": "stdout",
     "output_type": "stream",
     "text": [
      "training loss is 0.0006130184629000723 and training accuracy is 19815/2300086\n",
      "validation loss is 0.3922363817691803 and validation accuracy is 2543/2000127\n",
      "training loss is 0.002619796432554722 and training accuracy is 19632/2300085\n",
      "validation loss is 0.23124898970127106 and validation accuracy is 2543/2000127\n",
      "training loss is 0.0017433970933780074 and training accuracy is 19581/2300085\n",
      "validation loss is 0.17548798024654388 and validation accuracy is 2543/2000127\n",
      "training loss is 0.0014647713396698236 and training accuracy is 19519/2300084\n",
      "validation loss is 0.18927402794361115 and validation accuracy is 2543/2000127\n",
      "training loss is 0.0013293836964294314 and training accuracy is 19558/2300085\n",
      "validation loss is 0.20355547964572906 and validation accuracy is 2543/2000127\n",
      "training loss is 0.0011485761497169733 and training accuracy is 19598/2300085\n",
      "validation loss is 0.22277384996414185 and validation accuracy is 2543/2000127\n",
      "training loss is 0.0010058097541332245 and training accuracy is 19613/2300085\n",
      "validation loss is 0.21599113941192627 and validation accuracy is 2543/2000127\n",
      "training loss is 0.0009149236720986664 and training accuracy is 19615/2300085\n",
      "validation loss is 0.21149873733520508 and validation accuracy is 2543/2000127\n",
      "training loss is 0.0009120727190747857 and training accuracy is 19665/2300085\n",
      "validation loss is 0.19707809388637543 and validation accuracy is 2543/2000127\n",
      "training loss is 0.0007982145179994404 and training accuracy is 19668/2300085\n",
      "validation loss is 0.19663435220718384 and validation accuracy is 2543/2000127\n",
      "training loss is 0.0007526185363531113 and training accuracy is 19721/2300085\n",
      "validation loss is 0.19860073924064636 and validation accuracy is 2543/2000127\n",
      "training loss is 0.0006926444475539029 and training accuracy is 19729/2300085\n",
      "validation loss is 0.21543991565704346 and validation accuracy is 2543/2000127\n",
      "training loss is 0.0007651844061911106 and training accuracy is 19711/2300085\n",
      "validation loss is 0.22879862785339355 and validation accuracy is 2543/2000127\n",
      "training loss is 0.0007659362745471299 and training accuracy is 19728/2300085\n",
      "validation loss is 0.20869971811771393 and validation accuracy is 2543/2000127\n",
      "training loss is 0.0007012459100224078 and training accuracy is 19728/2300085\n",
      "validation loss is 0.21309006214141846 and validation accuracy is 2543/2000127\n",
      "training loss is 0.0006626558024436235 and training accuracy is 19731/2300085\n",
      "validation loss is 0.2056339532136917 and validation accuracy is 2543/2000127\n",
      "training loss is 0.000644747051410377 and training accuracy is 19778/2300085\n",
      "validation loss is 0.19304262101650238 and validation accuracy is 2543/2000127\n",
      "training loss is 0.0005744531517848372 and training accuracy is 19798/2300086\n",
      "validation loss is 0.1925053894519806 and validation accuracy is 2543/2000127\n",
      "training loss is 0.0006385325104929507 and training accuracy is 19776/2300085\n",
      "validation loss is 0.21591272950172424 and validation accuracy is 2543/2000127\n"
     ]
    },
    {
     "data": {
      "text/plain": [
       "<matplotlib.legend.Legend at 0x14c93c9eb70>"
      ]
     },
     "execution_count": 12,
     "metadata": {},
     "output_type": "execute_result"
    },
    {
     "data": {
      "image/png": "[encoded data removed]",
      "text/plain": [
       "<Figure size 432x288 with 1 Axes>"
      ]
     },
     "metadata": {
      "needs_background": "light"
     },
     "output_type": "display_data"
    }
   ],
   "source": [
    "model=models.resnet18(pretrained=True)\n",
    "num_in=model.fc.in_features\n",
    "model.fc=nn.Linear(num_in,2)\n",
    "loss_fn=nn.CrossEntropyLoss()\n",
    "\n",
    "is_cuda=True\n",
    "if is_cuda:\n",
    "    model=model.cuda()\n",
    "\n",
    "optimizer=torch.optim.SGD(model.parameters(),lr=0.01,momentum=0.5)\n",
    "train_losses,train_accuracy=[],[]\n",
    "val_losses,val_accuracy=[],[]\n",
    "for epoch in range(1,20):\n",
    "    epoch_loss,epoch_accuracy=fit(epoch,model,train_loader,phase='training',dataset_size=23000)\n",
    "    val_epoch_loss,val_epoch_accuracy=fit(epoch,model,valid_loader,phase='validation',dataset_size=2000)\n",
    "    train_losses.append(epoch_loss)\n",
    "    train_accuracy.append(epoch_accuracy)\n",
    "    val_losses.append(val_epoch_loss)\n",
    "    val_accuracy.append(val_epoch_accuracy)\n",
    "    \n",
    "plt.plot(range(1,len(train_losses)+1),train_losses,'bo',label='training loss')\n",
    "plt.plot(range(1,len(val_losses)+1),val_losses,'r',label='validation loss')\n",
    "plt.legend()\n",
    "    "
   ]
  },
  {
   "cell_type": "code",
   "execution_count": null,
   "metadata": {},
   "outputs": [],
   "source": [
    "# 可视化中间层的输出"
   ]
  },
  {
   "cell_type": "code",
   "execution_count": null,
   "metadata": {},
   "outputs": [],
   "source": []
  }
 ],
 "metadata": {
  "kernelspec": {
   "display_name": "Python [conda env:pyenv] *",
   "language": "python",
   "name": "conda-env-pyenv-py"
  },
  "language_info": {
   "codemirror_mode": {
    "name": "ipython",
    "version": 3
   },
   "file_extension": ".py",
   "mimetype": "text/x-python",
   "name": "python",
   "nbconvert_exporter": "python",
   "pygments_lexer": "ipython3",
   "version": "3.6.9"
  }
 },
 "nbformat": 4,
 "nbformat_minor": 2
}
